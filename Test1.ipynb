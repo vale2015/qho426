{
  "nbformat": 4,
  "nbformat_minor": 0,
  "metadata": {
    "colab": {
      "provenance": [],
      "authorship_tag": "ABX9TyMN1HEVZs6FESlt0pCGxn7i",
      "include_colab_link": true
    },
    "kernelspec": {
      "name": "python3",
      "display_name": "Python 3"
    },
    "language_info": {
      "name": "python"
    }
  },
  "cells": [
    {
      "cell_type": "markdown",
      "metadata": {
        "id": "view-in-github",
        "colab_type": "text"
      },
      "source": [
        "<a href=\"https://colab.research.google.com/github/vale2015/qho426/blob/main/Test1.ipynb\" target=\"_parent\"><img src=\"https://colab.research.google.com/assets/colab-badge.svg\" alt=\"Open In Colab\"/></a>"
      ]
    },
    {
      "cell_type": "code",
      "execution_count": 4,
      "metadata": {
        "colab": {
          "base_uri": "https://localhost:8080/"
        },
        "id": "iPCo6WXpD7g_",
        "outputId": "aa1c4e0f-fe09-40ae-ede9-06d94d244a99"
      },
      "outputs": [
        {
          "output_type": "stream",
          "name": "stdout",
          "text": [
            "Welcome to multiply! \n",
            "please enter your first number: 5\n",
            "please enter your second number: 5\n",
            "25\n"
          ]
        },
        {
          "output_type": "execute_result",
          "data": {
            "text/plain": [
              "<function print>"
            ]
          },
          "metadata": {},
          "execution_count": 4
        }
      ],
      "source": [
        "#combine string+int\n",
        "age = 30\n",
        "\n",
        "text = \"My age is: \"\n",
        "\n",
        "text  + str(age)\n",
        "\n",
        "#simple outuput\n",
        "#name = \"Valerio\"\n",
        "#print(\"Hello my name is \" + name )\n",
        "\n",
        "#input function\n",
        "#name = input(\"Please enter your name: \")\n",
        "\n",
        "#print function\n",
        "##print(\"Hello,my name is \", name)\n",
        "\n",
        "\n",
        "\n",
        "#name = input(\"Plese enter your name: \")\n",
        "#print(\"Hello \" + name +\", Thank you for using my first program!\")\n",
        "\n",
        "\n",
        "#print(\"Welcome to multiply! \")\n",
        "#num1 = int(input(\"please enter your first number: \"))\n",
        "#num2 = int(input(\"please enter your second number: \"))\n",
        "#print(num1 * num2)\n",
        "\n",
        "\n",
        "\n",
        "\n",
        "\n",
        "\n",
        "\n",
        "\n",
        "\n",
        "\n",
        "\n",
        "\n",
        "\n",
        "\n"
      ]
    }
  ]
}
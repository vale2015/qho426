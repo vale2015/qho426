{
  "nbformat": 4,
  "nbformat_minor": 0,
  "metadata": {
    "colab": {
      "provenance": [],
      "authorship_tag": "ABX9TyOHq3xENWdoKp//X/ICt//P",
      "include_colab_link": true
    },
    "kernelspec": {
      "name": "python3",
      "display_name": "Python 3"
    },
    "language_info": {
      "name": "python"
    }
  },
  "cells": [
    {
      "cell_type": "markdown",
      "metadata": {
        "id": "view-in-github",
        "colab_type": "text"
      },
      "source": [
        "<a href=\"https://colab.research.google.com/github/vale2015/qho426/blob/main/Comparison.ipynb\" target=\"_parent\"><img src=\"https://colab.research.google.com/assets/colab-badge.svg\" alt=\"Open In Colab\"/></a>"
      ]
    },
    {
      "cell_type": "code",
      "execution_count": 17,
      "metadata": {
        "colab": {
          "base_uri": "https://localhost:8080/"
        },
        "id": "4IK7icwLdA77",
        "outputId": "9a841932-524a-4581-d69d-064e571ded56"
      },
      "outputs": [
        {
          "output_type": "stream",
          "name": "stdout",
          "text": [
            "The second number is bigger! \n"
          ]
        }
      ],
      "source": [
        "first_number = 8.8\n",
        "second_number = 100\n",
        "\n",
        "if first_number > second_number:\n",
        "  print(f\"The first number is smaller!\")\n",
        "elif first_number < second_number:\n",
        "  print(f\"The second number is bigger! \")\n",
        "else:\n",
        "  print(\"Both are equal!\")"
      ]
    }
  ]
}
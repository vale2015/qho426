{
  "nbformat": 4,
  "nbformat_minor": 0,
  "metadata": {
    "colab": {
      "provenance": [],
      "authorship_tag": "ABX9TyPd2MQPtpqxYajG6EMOu1T2",
      "include_colab_link": true
    },
    "kernelspec": {
      "name": "python3",
      "display_name": "Python 3"
    },
    "language_info": {
      "name": "python"
    }
  },
  "cells": [
    {
      "cell_type": "markdown",
      "metadata": {
        "id": "view-in-github",
        "colab_type": "text"
      },
      "source": [
        "<a href=\"https://colab.research.google.com/github/vale2015/qho426/blob/main/Comparison(eif%2Belse%2Belif).ipynb\" target=\"_parent\"><img src=\"https://colab.research.google.com/assets/colab-badge.svg\" alt=\"Open In Colab\"/></a>"
      ]
    },
    {
      "cell_type": "code",
      "execution_count": 25,
      "metadata": {
        "colab": {
          "base_uri": "https://localhost:8080/"
        },
        "id": "4IK7icwLdA77",
        "outputId": "1569723f-4a17-46a8-de62-926f23333dc2"
      },
      "outputs": [
        {
          "output_type": "stream",
          "name": "stdout",
          "text": [
            "Error\n"
          ]
        }
      ],
      "source": [
        "First_number = 3000.30\n",
        "Second_number = 3009.30\n",
        "\n",
        "if First_number > Second_number:\n",
        "  print(\"Done\")\n",
        "elif First_number == Second_number:\n",
        "  print(\"Perfect\")\n",
        "\n",
        "else:\n",
        "  print(\"Error\")"
      ]
    },
    {
      "cell_type": "code",
      "source": [],
      "metadata": {
        "id": "2fvvAZFubzOY"
      },
      "execution_count": null,
      "outputs": []
    }
  ]
}
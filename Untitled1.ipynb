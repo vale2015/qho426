{
  "nbformat": 4,
  "nbformat_minor": 0,
  "metadata": {
    "colab": {
      "provenance": [],
      "toc_visible": true,
      "authorship_tag": "ABX9TyMt0JcOrBqgOg9pb/qpKkJH",
      "include_colab_link": true
    },
    "kernelspec": {
      "name": "python3",
      "display_name": "Python 3"
    },
    "language_info": {
      "name": "python"
    }
  },
  "cells": [
    {
      "cell_type": "markdown",
      "metadata": {
        "id": "view-in-github",
        "colab_type": "text"
      },
      "source": [
        "<a href=\"https://colab.research.google.com/github/vale2015/qho426/blob/main/Untitled1.ipynb\" target=\"_parent\"><img src=\"https://colab.research.google.com/assets/colab-badge.svg\" alt=\"Open In Colab\"/></a>"
      ]
    },
    {
      "cell_type": "code",
      "execution_count": null,
      "metadata": {
        "id": "m-mAqjRGCpkj"
      },
      "outputs": [],
      "source": [
        "print(\"Hello this is my first sum program! \")\n",
        "num1 = int(input(\"Please enter your first number: \"))\n",
        "num2 = int(input(\"Please enter your second number: \"))\n",
        "print(num1 + num2)\n",
        "\n",
        "\n",
        "\n"
      ]
    }
  ]
}
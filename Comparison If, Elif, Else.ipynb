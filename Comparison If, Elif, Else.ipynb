{
  "nbformat": 4,
  "nbformat_minor": 0,
  "metadata": {
    "colab": {
      "provenance": [],
      "authorship_tag": "ABX9TyNXGLvi30KQ8tMOXMwf8EPm",
      "include_colab_link": true
    },
    "kernelspec": {
      "name": "python3",
      "display_name": "Python 3"
    },
    "language_info": {
      "name": "python"
    }
  },
  "cells": [
    {
      "cell_type": "markdown",
      "metadata": {
        "id": "view-in-github",
        "colab_type": "text"
      },
      "source": [
        "<a href=\"https://colab.research.google.com/github/vale2015/qho426/blob/main/Comparison%20If%2C%20Elif%2C%20Else.ipynb\" target=\"_parent\"><img src=\"https://colab.research.google.com/assets/colab-badge.svg\" alt=\"Open In Colab\"/></a>"
      ]
    },
    {
      "cell_type": "code",
      "execution_count": 54,
      "metadata": {
        "colab": {
          "base_uri": "https://localhost:8080/"
        },
        "id": "4IK7icwLdA77",
        "outputId": "b4714ac1-3b7d-4d86-dd59-ff065af39f91"
      },
      "outputs": [
        {
          "output_type": "stream",
          "name": "stdout",
          "text": [
            "Finally\n",
            "Task done\n"
          ]
        }
      ],
      "source": [
        "First_entity = \"Human\"\n",
        "Second_entity = \"Robot\"\n",
        "Third_entity = \"Animal\"\n",
        "Fourth_entity = \"Shark\"\n",
        "\n",
        "if First_entity == \"Shark\":\n",
        "  print(\"I am not a robot\")\n",
        "\n",
        "elif Second_entity == \"Shark\":\n",
        "  print(\"I am a robot\")\n",
        "\n",
        "else:\n",
        "\n",
        "  print(\"Finally\")\n",
        "\n",
        "print(\"Task done\")"
      ]
    },
    {
      "cell_type": "code",
      "source": [],
      "metadata": {
        "id": "2fvvAZFubzOY"
      },
      "execution_count": 46,
      "outputs": []
    }
  ]
}